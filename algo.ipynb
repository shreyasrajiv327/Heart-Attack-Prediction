{
 "cells": [
  {
   "cell_type": "code",
   "execution_count": 1,
   "metadata": {},
   "outputs": [],
   "source": [
    "import pandas as pd\n",
    "import numpy as np\n",
    "from sklearn.model_selection import train_test_split\n",
    "from sklearn.metrics import accuracy_score"
   ]
  },
  {
   "cell_type": "code",
   "execution_count": 2,
   "metadata": {},
   "outputs": [],
   "source": [
    "data = pd.read_csv(\"/Users/shreyasr/Documents/AgileSWE/heart.csv\")"
   ]
  },
  {
   "cell_type": "markdown",
   "metadata": {},
   "source": [
    "### Decision Tree Classifier"
   ]
  },
  {
   "cell_type": "code",
   "execution_count": null,
   "metadata": {},
   "outputs": [],
   "source": []
  },
  {
   "cell_type": "code",
   "execution_count": 3,
   "metadata": {},
   "outputs": [],
   "source": [
    "from sklearn.tree import DecisionTreeClassifier"
   ]
  },
  {
   "cell_type": "code",
   "execution_count": 4,
   "metadata": {},
   "outputs": [],
   "source": [
    "X = data.drop(\"target\", axis=1) # Features are all columns except target\n",
    "y = data[\"target\"] # Target is the column named target\n",
    "\n",
    "X_train, X_test, y_train, y_test = train_test_split(X, y, test_size=0.2, random_state=7)"
   ]
  },
  {
   "cell_type": "code",
   "execution_count": 5,
   "metadata": {},
   "outputs": [],
   "source": [
    "reg = DecisionTreeClassifier(criterion = 'entropy', random_state = 0)\n",
    "reg.fit(X_train,y_train)\n",
    "\n",
    "Y_pred = reg.predict(X_test)"
   ]
  },
  {
   "cell_type": "code",
   "execution_count": 6,
   "metadata": {},
   "outputs": [
    {
     "name": "stdout",
     "output_type": "stream",
     "text": [
      "Accuracy - test set: 100.00%\n"
     ]
    }
   ],
   "source": [
    "#accuracy on test set\n",
    "accuracy = reg.score(X_test, y_test)\n",
    "print(\"Accuracy - test set: %.2f%%\" % (accuracy*100.0))"
   ]
  },
  {
   "cell_type": "markdown",
   "metadata": {},
   "source": [
    "### Random Forest Classifier"
   ]
  },
  {
   "cell_type": "code",
   "execution_count": 7,
   "metadata": {},
   "outputs": [],
   "source": [
    "from sklearn.ensemble import RandomForestClassifier"
   ]
  },
  {
   "cell_type": "code",
   "execution_count": 8,
   "metadata": {},
   "outputs": [],
   "source": [
    "X = data.drop(\"target\", axis=1) # Features are all columns except target\n",
    "y = data[\"target\"] # Target is the column named target\n",
    "\n",
    "X_train, X_test, y_train, y_test = train_test_split(X, y, test_size=0.3, random_state=5)"
   ]
  },
  {
   "cell_type": "code",
   "execution_count": 9,
   "metadata": {},
   "outputs": [],
   "source": [
    "reg = RandomForestClassifier(criterion = 'entropy', random_state = 0)\n",
    "reg.fit(X_train,y_train)\n",
    "Y_pred = reg.predict(X_test)"
   ]
  },
  {
   "cell_type": "code",
   "execution_count": 10,
   "metadata": {},
   "outputs": [
    {
     "name": "stdout",
     "output_type": "stream",
     "text": [
      "Accuracy - test set: 100.00%\n"
     ]
    }
   ],
   "source": [
    "#accuracy on test set\n",
    "accuracy = reg.score(X_test, y_test)\n",
    "print(\"Accuracy - test set: %.2f%%\" % (accuracy*100.0))"
   ]
  },
  {
   "cell_type": "markdown",
   "metadata": {},
   "source": [
    "### Support vector machine (SVM)"
   ]
  },
  {
   "cell_type": "code",
   "execution_count": 11,
   "metadata": {},
   "outputs": [],
   "source": [
    "from sklearn.svm import SVC"
   ]
  },
  {
   "cell_type": "code",
   "execution_count": 12,
   "metadata": {},
   "outputs": [],
   "source": [
    "X = data.drop(\"target\", axis=1) # Features are all columns except target\n",
    "y = data[\"target\"] # Target is the column named target\n",
    "\n",
    "X_train, X_test, y_train, y_test = train_test_split(X, y, test_size=0.3, random_state=5)"
   ]
  },
  {
   "cell_type": "code",
   "execution_count": 13,
   "metadata": {},
   "outputs": [],
   "source": [
    "reg = SVC()\n",
    "reg.fit(X_train,y_train)\n",
    "Y_pred = reg.predict(X_test)"
   ]
  },
  {
   "cell_type": "code",
   "execution_count": 14,
   "metadata": {},
   "outputs": [
    {
     "name": "stdout",
     "output_type": "stream",
     "text": [
      "Accuracy - test set: 70.78%\n"
     ]
    }
   ],
   "source": [
    "#accuracy on test set\n",
    "accuracy = reg.score(X_test, y_test)\n",
    "print(\"Accuracy - test set: %.2f%%\" % (accuracy*100.0))"
   ]
  },
  {
   "cell_type": "markdown",
   "metadata": {},
   "source": [
    "### Logistic Regression"
   ]
  },
  {
   "cell_type": "code",
   "execution_count": 15,
   "metadata": {},
   "outputs": [],
   "source": [
    "from sklearn.linear_model import LogisticRegression"
   ]
  },
  {
   "cell_type": "code",
   "execution_count": 16,
   "metadata": {},
   "outputs": [],
   "source": [
    "X = data.drop(\"target\", axis=1) # Features are all columns except target\n",
    "y = data[\"target\"] # Target is the column named target\n",
    "\n",
    "X_train, X_test, y_train, y_test = train_test_split(X, y, test_size=0.2, random_state=7)"
   ]
  },
  {
   "cell_type": "code",
   "execution_count": 17,
   "metadata": {},
   "outputs": [],
   "source": [
    "reg = LogisticRegression(max_iter=1000, random_state=0)\n",
    "reg.fit(X_train,y_train)\n",
    "Y_pred = reg.predict(X_test)"
   ]
  },
  {
   "cell_type": "code",
   "execution_count": 18,
   "metadata": {},
   "outputs": [
    {
     "name": "stdout",
     "output_type": "stream",
     "text": [
      "Accuracy - test set: 87.80%\n"
     ]
    }
   ],
   "source": [
    "#accuracy on test set\n",
    "accuracy = reg.score(X_test, y_test)\n",
    "print(\"Accuracy - test set: %.2f%%\" % (accuracy*100.0))"
   ]
  },
  {
   "cell_type": "markdown",
   "metadata": {},
   "source": [
    "### K-Nearest Neighbour (KNN)"
   ]
  },
  {
   "cell_type": "code",
   "execution_count": 19,
   "metadata": {},
   "outputs": [],
   "source": [
    "from sklearn.neighbors import KNeighborsClassifier"
   ]
  },
  {
   "cell_type": "code",
   "execution_count": 20,
   "metadata": {},
   "outputs": [],
   "source": [
    "X = data.drop(\"target\", axis=1) # Features are all columns except target\n",
    "y = data[\"target\"] # Target is the column named target\n",
    "\n",
    "X_train, X_test, y_train, y_test = train_test_split(X, y, test_size=0.2, random_state=7)"
   ]
  },
  {
   "cell_type": "code",
   "execution_count": 21,
   "metadata": {},
   "outputs": [],
   "source": [
    "reg = KNeighborsClassifier()\n",
    "reg.fit(X_train,y_train)\n",
    "Y_pred = reg.predict(X_test)"
   ]
  },
  {
   "cell_type": "code",
   "execution_count": 22,
   "metadata": {},
   "outputs": [
    {
     "name": "stdout",
     "output_type": "stream",
     "text": [
      "Accuracy - test set: 74.63%\n"
     ]
    }
   ],
   "source": [
    "#accuracy on test set\n",
    "accuracy = reg.score(X_test, y_test)\n",
    "print(\"Accuracy - test set: %.2f%%\" % (accuracy*100.0))"
   ]
  },
  {
   "cell_type": "markdown",
   "metadata": {},
   "source": [
    "### Naive Byes"
   ]
  },
  {
   "cell_type": "code",
   "execution_count": 23,
   "metadata": {},
   "outputs": [],
   "source": [
    "from sklearn.naive_bayes import GaussianNB"
   ]
  },
  {
   "cell_type": "code",
   "execution_count": 24,
   "metadata": {},
   "outputs": [],
   "source": [
    "X = data.drop(\"target\", axis=1) # Features are all columns except target\n",
    "y = data[\"target\"] # Target is the column named target\n",
    "\n",
    "X_train, X_test, y_train, y_test = train_test_split(X, y, test_size=0.2, random_state=7)"
   ]
  },
  {
   "cell_type": "code",
   "execution_count": 25,
   "metadata": {},
   "outputs": [],
   "source": [
    "reg = GaussianNB()\n",
    "reg.fit(X_train,y_train)\n",
    "Y_pred = reg.predict(X_test)"
   ]
  },
  {
   "cell_type": "code",
   "execution_count": 26,
   "metadata": {},
   "outputs": [
    {
     "name": "stdout",
     "output_type": "stream",
     "text": [
      "Accuracy - test set: 84.88%\n"
     ]
    }
   ],
   "source": [
    "#accuracy on test set\n",
    "accuracy = reg.score(X_test, y_test)\n",
    "print(\"Accuracy - test set: %.2f%%\" % (accuracy*100.0))"
   ]
  },
  {
   "cell_type": "markdown",
   "metadata": {},
   "source": [
    "### Deep Neural Networks (DNN)"
   ]
  },
  {
   "cell_type": "code",
   "execution_count": 27,
   "metadata": {},
   "outputs": [],
   "source": [
    "import matplotlib.pyplot as plt\n",
    "from sklearn.metrics import mean_squared_error\n",
    "from math import sqrt\n",
    "from keras.models import Sequential\n",
    "from keras.layers import Dense\n",
    "from keras.utils import to_categorical "
   ]
  },
  {
   "cell_type": "code",
   "execution_count": 28,
   "metadata": {},
   "outputs": [],
   "source": [
    "df = pd.read_csv(\"heart.csv\")\n",
    "x=df.drop('target',axis=1)\n",
    "y=df['target']\n",
    "x_train,x_test,y_train,y_test = train_test_split(x,y,test_size=0.25,random_state=42)"
   ]
  },
  {
   "cell_type": "code",
   "execution_count": 29,
   "metadata": {},
   "outputs": [],
   "source": [
    "model = Sequential()\n",
    "model.add(Dense(500, activation='relu', input_dim=13))\n",
    "model.add(Dense(100, activation='relu'))\n",
    "model.add(Dense(50, activation='relu'))\n",
    "model.add(Dense(1, activation='sigmoid'))\n"
   ]
  },
  {
   "cell_type": "code",
   "execution_count": 30,
   "metadata": {},
   "outputs": [
    {
     "name": "stdout",
     "output_type": "stream",
     "text": [
      "Epoch 1/100\n"
     ]
    },
    {
     "name": "stderr",
     "output_type": "stream",
     "text": [
      "2023-10-19 12:59:39.252368: W tensorflow/core/platform/profile_utils/cpu_utils.cc:128] Failed to get CPU frequency: 0 Hz\n"
     ]
    },
    {
     "name": "stdout",
     "output_type": "stream",
     "text": [
      "24/24 [==============================] - 0s 1ms/step - loss: 2.9382 - accuracy: 0.5638\n",
      "Epoch 2/100\n",
      "24/24 [==============================] - 0s 778us/step - loss: 0.9111 - accuracy: 0.6354\n",
      "Epoch 3/100\n",
      "24/24 [==============================] - 0s 773us/step - loss: 0.7408 - accuracy: 0.6628\n",
      "Epoch 4/100\n",
      "24/24 [==============================] - 0s 914us/step - loss: 0.5642 - accuracy: 0.7201\n",
      "Epoch 5/100\n",
      "24/24 [==============================] - 0s 877us/step - loss: 0.5514 - accuracy: 0.7174\n",
      "Epoch 6/100\n",
      "24/24 [==============================] - 0s 853us/step - loss: 0.5123 - accuracy: 0.7422\n",
      "Epoch 7/100\n",
      "24/24 [==============================] - 0s 977us/step - loss: 0.4773 - accuracy: 0.7812\n",
      "Epoch 8/100\n",
      "24/24 [==============================] - 0s 800us/step - loss: 0.4750 - accuracy: 0.7552\n",
      "Epoch 9/100\n",
      "24/24 [==============================] - 0s 782us/step - loss: 0.4628 - accuracy: 0.7604\n",
      "Epoch 10/100\n",
      "24/24 [==============================] - 0s 787us/step - loss: 0.4386 - accuracy: 0.7852\n",
      "Epoch 11/100\n",
      "24/24 [==============================] - 0s 805us/step - loss: 0.4411 - accuracy: 0.8021\n",
      "Epoch 12/100\n",
      "24/24 [==============================] - 0s 786us/step - loss: 0.4053 - accuracy: 0.8138\n",
      "Epoch 13/100\n",
      "24/24 [==============================] - 0s 818us/step - loss: 0.4533 - accuracy: 0.7852\n",
      "Epoch 14/100\n",
      "24/24 [==============================] - 0s 837us/step - loss: 0.5059 - accuracy: 0.7734\n",
      "Epoch 15/100\n",
      "24/24 [==============================] - 0s 839us/step - loss: 0.4288 - accuracy: 0.8008\n",
      "Epoch 16/100\n",
      "24/24 [==============================] - 0s 801us/step - loss: 0.3803 - accuracy: 0.8281\n",
      "Epoch 17/100\n",
      "24/24 [==============================] - 0s 802us/step - loss: 0.3927 - accuracy: 0.8138\n",
      "Epoch 18/100\n",
      "24/24 [==============================] - 0s 859us/step - loss: 0.4966 - accuracy: 0.7591\n",
      "Epoch 19/100\n",
      "24/24 [==============================] - 0s 971us/step - loss: 0.4007 - accuracy: 0.8151\n",
      "Epoch 20/100\n",
      "24/24 [==============================] - 0s 788us/step - loss: 0.5741 - accuracy: 0.7409\n",
      "Epoch 21/100\n",
      "24/24 [==============================] - 0s 810us/step - loss: 0.5198 - accuracy: 0.7852\n",
      "Epoch 22/100\n",
      "24/24 [==============================] - 0s 751us/step - loss: 0.3739 - accuracy: 0.8372\n",
      "Epoch 23/100\n",
      "24/24 [==============================] - 0s 826us/step - loss: 0.3731 - accuracy: 0.8229\n",
      "Epoch 24/100\n",
      "24/24 [==============================] - 0s 795us/step - loss: 0.3536 - accuracy: 0.8398\n",
      "Epoch 25/100\n",
      "24/24 [==============================] - 0s 803us/step - loss: 0.3988 - accuracy: 0.8138\n",
      "Epoch 26/100\n",
      "24/24 [==============================] - 0s 835us/step - loss: 0.3509 - accuracy: 0.8451\n",
      "Epoch 27/100\n",
      "24/24 [==============================] - 0s 760us/step - loss: 0.4841 - accuracy: 0.7839\n",
      "Epoch 28/100\n",
      "24/24 [==============================] - 0s 781us/step - loss: 0.3611 - accuracy: 0.8451\n",
      "Epoch 29/100\n",
      "24/24 [==============================] - 0s 775us/step - loss: 0.3792 - accuracy: 0.8229\n",
      "Epoch 30/100\n",
      "24/24 [==============================] - 0s 766us/step - loss: 0.3583 - accuracy: 0.8438\n",
      "Epoch 31/100\n",
      "24/24 [==============================] - 0s 786us/step - loss: 0.3631 - accuracy: 0.8424\n",
      "Epoch 32/100\n",
      "24/24 [==============================] - 0s 763us/step - loss: 0.3913 - accuracy: 0.8242\n",
      "Epoch 33/100\n",
      "24/24 [==============================] - 0s 788us/step - loss: 0.3631 - accuracy: 0.8477\n",
      "Epoch 34/100\n",
      "24/24 [==============================] - 0s 781us/step - loss: 0.4213 - accuracy: 0.8151\n",
      "Epoch 35/100\n",
      "24/24 [==============================] - 0s 790us/step - loss: 0.3499 - accuracy: 0.8464\n",
      "Epoch 36/100\n",
      "24/24 [==============================] - 0s 769us/step - loss: 0.3367 - accuracy: 0.8542\n",
      "Epoch 37/100\n",
      "24/24 [==============================] - 0s 767us/step - loss: 0.3519 - accuracy: 0.8503\n",
      "Epoch 38/100\n",
      "24/24 [==============================] - 0s 812us/step - loss: 0.3856 - accuracy: 0.8190\n",
      "Epoch 39/100\n",
      "24/24 [==============================] - 0s 773us/step - loss: 0.3446 - accuracy: 0.8516\n",
      "Epoch 40/100\n",
      "24/24 [==============================] - 0s 776us/step - loss: 0.3380 - accuracy: 0.8568\n",
      "Epoch 41/100\n",
      "24/24 [==============================] - 0s 788us/step - loss: 0.3441 - accuracy: 0.8594\n",
      "Epoch 42/100\n",
      "24/24 [==============================] - 0s 786us/step - loss: 0.3601 - accuracy: 0.8294\n",
      "Epoch 43/100\n",
      "24/24 [==============================] - 0s 788us/step - loss: 0.3331 - accuracy: 0.8529\n",
      "Epoch 44/100\n",
      "24/24 [==============================] - 0s 775us/step - loss: 0.3730 - accuracy: 0.8346\n",
      "Epoch 45/100\n",
      "24/24 [==============================] - 0s 772us/step - loss: 0.3542 - accuracy: 0.8359\n",
      "Epoch 46/100\n",
      "24/24 [==============================] - 0s 767us/step - loss: 0.3568 - accuracy: 0.8464\n",
      "Epoch 47/100\n",
      "24/24 [==============================] - 0s 807us/step - loss: 0.3338 - accuracy: 0.8594\n",
      "Epoch 48/100\n",
      "24/24 [==============================] - 0s 805us/step - loss: 0.4079 - accuracy: 0.8229\n",
      "Epoch 49/100\n",
      "24/24 [==============================] - 0s 765us/step - loss: 0.3740 - accuracy: 0.8359\n",
      "Epoch 50/100\n",
      "24/24 [==============================] - 0s 803us/step - loss: 0.3312 - accuracy: 0.8685\n",
      "Epoch 51/100\n",
      "24/24 [==============================] - 0s 793us/step - loss: 0.3266 - accuracy: 0.8581\n",
      "Epoch 52/100\n",
      "24/24 [==============================] - 0s 777us/step - loss: 0.3463 - accuracy: 0.8372\n",
      "Epoch 53/100\n",
      "24/24 [==============================] - 0s 782us/step - loss: 0.3217 - accuracy: 0.8646\n",
      "Epoch 54/100\n",
      "24/24 [==============================] - 0s 774us/step - loss: 0.3913 - accuracy: 0.8359\n",
      "Epoch 55/100\n",
      "24/24 [==============================] - 0s 781us/step - loss: 0.3276 - accuracy: 0.8698\n",
      "Epoch 56/100\n",
      "24/24 [==============================] - 0s 790us/step - loss: 0.3445 - accuracy: 0.8464\n",
      "Epoch 57/100\n",
      "24/24 [==============================] - 0s 786us/step - loss: 0.3876 - accuracy: 0.8216\n",
      "Epoch 58/100\n",
      "24/24 [==============================] - 0s 761us/step - loss: 0.3760 - accuracy: 0.8281\n",
      "Epoch 59/100\n",
      "24/24 [==============================] - 0s 748us/step - loss: 0.3324 - accuracy: 0.8633\n",
      "Epoch 60/100\n",
      "24/24 [==============================] - 0s 757us/step - loss: 0.3796 - accuracy: 0.8229\n",
      "Epoch 61/100\n",
      "24/24 [==============================] - 0s 796us/step - loss: 0.3166 - accuracy: 0.8594\n",
      "Epoch 62/100\n",
      "24/24 [==============================] - 0s 792us/step - loss: 0.3515 - accuracy: 0.8516\n",
      "Epoch 63/100\n",
      "24/24 [==============================] - 0s 779us/step - loss: 0.3835 - accuracy: 0.8268\n",
      "Epoch 64/100\n",
      "24/24 [==============================] - 0s 758us/step - loss: 0.3411 - accuracy: 0.8529\n",
      "Epoch 65/100\n",
      "24/24 [==============================] - 0s 769us/step - loss: 0.3488 - accuracy: 0.8581\n",
      "Epoch 66/100\n",
      "24/24 [==============================] - 0s 774us/step - loss: 0.3718 - accuracy: 0.8333\n",
      "Epoch 67/100\n",
      "24/24 [==============================] - 0s 777us/step - loss: 0.4116 - accuracy: 0.8073\n",
      "Epoch 68/100\n",
      "24/24 [==============================] - 0s 787us/step - loss: 0.4014 - accuracy: 0.8255\n",
      "Epoch 69/100\n",
      "24/24 [==============================] - 0s 765us/step - loss: 0.3968 - accuracy: 0.8255\n",
      "Epoch 70/100\n",
      "24/24 [==============================] - 0s 780us/step - loss: 0.3360 - accuracy: 0.8542\n",
      "Epoch 71/100\n",
      "24/24 [==============================] - 0s 787us/step - loss: 0.4042 - accuracy: 0.8503\n",
      "Epoch 72/100\n",
      "24/24 [==============================] - 0s 781us/step - loss: 0.4287 - accuracy: 0.8086\n",
      "Epoch 73/100\n",
      "24/24 [==============================] - 0s 762us/step - loss: 0.3238 - accuracy: 0.8698\n",
      "Epoch 74/100\n",
      "24/24 [==============================] - 0s 782us/step - loss: 0.3109 - accuracy: 0.8724\n",
      "Epoch 75/100\n",
      "24/24 [==============================] - 0s 785us/step - loss: 0.3903 - accuracy: 0.8229\n",
      "Epoch 76/100\n",
      "24/24 [==============================] - 0s 795us/step - loss: 0.3395 - accuracy: 0.8542\n",
      "Epoch 77/100\n",
      "24/24 [==============================] - 0s 778us/step - loss: 0.3417 - accuracy: 0.8477\n",
      "Epoch 78/100\n",
      "24/24 [==============================] - 0s 773us/step - loss: 0.3204 - accuracy: 0.8633\n",
      "Epoch 79/100\n",
      "24/24 [==============================] - 0s 784us/step - loss: 0.3229 - accuracy: 0.8672\n",
      "Epoch 80/100\n",
      "24/24 [==============================] - 0s 808us/step - loss: 0.3246 - accuracy: 0.8633\n",
      "Epoch 81/100\n",
      "24/24 [==============================] - 0s 860us/step - loss: 0.3386 - accuracy: 0.8516\n",
      "Epoch 82/100\n",
      "24/24 [==============================] - 0s 846us/step - loss: 0.3257 - accuracy: 0.8672\n",
      "Epoch 83/100\n",
      "24/24 [==============================] - 0s 940us/step - loss: 0.3744 - accuracy: 0.8372\n",
      "Epoch 84/100\n",
      "24/24 [==============================] - 0s 882us/step - loss: 0.3649 - accuracy: 0.8346\n",
      "Epoch 85/100\n",
      "24/24 [==============================] - 0s 2ms/step - loss: 0.3550 - accuracy: 0.8555\n",
      "Epoch 86/100\n",
      "24/24 [==============================] - 0s 817us/step - loss: 0.3781 - accuracy: 0.8359\n",
      "Epoch 87/100\n",
      "24/24 [==============================] - 0s 864us/step - loss: 0.3287 - accuracy: 0.8646\n",
      "Epoch 88/100\n",
      "24/24 [==============================] - 0s 855us/step - loss: 0.3425 - accuracy: 0.8477\n",
      "Epoch 89/100\n",
      "24/24 [==============================] - 0s 791us/step - loss: 0.3231 - accuracy: 0.8685\n",
      "Epoch 90/100\n",
      "24/24 [==============================] - 0s 808us/step - loss: 0.3440 - accuracy: 0.8385\n",
      "Epoch 91/100\n",
      "24/24 [==============================] - 0s 813us/step - loss: 0.3450 - accuracy: 0.8516\n",
      "Epoch 92/100\n",
      "24/24 [==============================] - 0s 783us/step - loss: 0.3466 - accuracy: 0.8581\n",
      "Epoch 93/100\n",
      "24/24 [==============================] - 0s 779us/step - loss: 0.3103 - accuracy: 0.8594\n",
      "Epoch 94/100\n",
      "24/24 [==============================] - 0s 777us/step - loss: 0.3229 - accuracy: 0.8672\n",
      "Epoch 95/100\n",
      "24/24 [==============================] - 0s 762us/step - loss: 0.3027 - accuracy: 0.8802\n",
      "Epoch 96/100\n",
      "24/24 [==============================] - 0s 788us/step - loss: 0.3155 - accuracy: 0.8763\n",
      "Epoch 97/100\n",
      "24/24 [==============================] - 0s 770us/step - loss: 0.4739 - accuracy: 0.7786\n",
      "Epoch 98/100\n",
      "24/24 [==============================] - 0s 755us/step - loss: 0.3400 - accuracy: 0.8607\n",
      "Epoch 99/100\n",
      "24/24 [==============================] - 0s 725us/step - loss: 0.3029 - accuracy: 0.8763\n",
      "Epoch 100/100\n",
      "24/24 [==============================] - 0s 789us/step - loss: 0.3437 - accuracy: 0.8451\n",
      "9/9 [==============================] - 0s 501us/step\n",
      "[[9.76817191e-01]\n",
      " [9.77125168e-01]\n",
      " [1.90857500e-02]\n",
      " [9.52118218e-01]\n",
      " [4.24053483e-02]\n",
      " [8.20910156e-01]\n",
      " [2.10106522e-02]\n",
      " [1.64893903e-02]\n",
      " [8.81145358e-01]\n",
      " [1.02495402e-02]\n",
      " [9.76818025e-01]\n",
      " [2.64749466e-03]\n",
      " [9.03741777e-01]\n",
      " [1.00000000e+00]\n",
      " [4.91791628e-02]\n",
      " [9.64862823e-01]\n",
      " [1.13798594e-02]\n",
      " [1.00000000e+00]\n",
      " [9.98653054e-01]\n",
      " [1.33785289e-02]\n",
      " [7.18339682e-01]\n",
      " [8.76612216e-02]\n",
      " [4.52504337e-01]\n",
      " [1.66143989e-03]\n",
      " [7.18339682e-01]\n",
      " [9.99998331e-01]\n",
      " [9.16578174e-01]\n",
      " [5.14838159e-01]\n",
      " [5.35508851e-03]\n",
      " [9.20202315e-01]\n",
      " [7.01348782e-01]\n",
      " [4.83330846e-01]\n",
      " [7.63071299e-01]\n",
      " [9.77125168e-01]\n",
      " [9.25968230e-01]\n",
      " [9.42384899e-01]\n",
      " [7.18339682e-01]\n",
      " [5.08710027e-01]\n",
      " [8.18896949e-01]\n",
      " [9.67180371e-01]\n",
      " [1.64893903e-02]\n",
      " [4.64496054e-02]\n",
      " [7.63499439e-01]\n",
      " [4.52504337e-01]\n",
      " [1.96409710e-02]\n",
      " [2.42856331e-03]\n",
      " [4.27169912e-02]\n",
      " [5.40419519e-01]\n",
      " [6.91689014e-01]\n",
      " [6.75872326e-01]\n",
      " [4.68164057e-01]\n",
      " [3.76573554e-03]\n",
      " [8.56257260e-01]\n",
      " [5.77417389e-03]\n",
      " [9.16578174e-01]\n",
      " [8.18896949e-01]\n",
      " [1.73033804e-01]\n",
      " [8.72535445e-03]\n",
      " [8.83504033e-01]\n",
      " [9.74672794e-01]\n",
      " [7.68013775e-01]\n",
      " [8.86353776e-02]\n",
      " [5.35508851e-03]\n",
      " [6.75872326e-01]\n",
      " [8.01071711e-03]\n",
      " [3.70728225e-02]\n",
      " [9.95670855e-01]\n",
      " [5.79718113e-01]\n",
      " [2.42856331e-03]\n",
      " [9.88981724e-01]\n",
      " [7.37314284e-01]\n",
      " [5.35508851e-03]\n",
      " [4.43657190e-01]\n",
      " [9.52764273e-01]\n",
      " [8.41345787e-01]\n",
      " [7.55698383e-01]\n",
      " [2.10106522e-02]\n",
      " [8.15175712e-01]\n",
      " [6.72405064e-01]\n",
      " [9.11355853e-01]\n",
      " [2.61394143e-01]\n",
      " [1.16257027e-01]\n",
      " [1.04593104e-02]\n",
      " [1.97111014e-02]\n",
      " [9.34616685e-01]\n",
      " [3.19622713e-03]\n",
      " [9.76818025e-01]\n",
      " [1.67795911e-01]\n",
      " [2.61394143e-01]\n",
      " [9.20202315e-01]\n",
      " [7.87728131e-01]\n",
      " [1.33785289e-02]\n",
      " [9.99818623e-01]\n",
      " [9.37377036e-01]\n",
      " [9.29896832e-01]\n",
      " [8.32916141e-01]\n",
      " [5.79718113e-01]\n",
      " [2.01992858e-02]\n",
      " [1.89594436e-03]\n",
      " [4.73629273e-02]\n",
      " [9.99643385e-01]\n",
      " [6.44660741e-02]\n",
      " [8.41440022e-01]\n",
      " [8.60590458e-01]\n",
      " [3.71831246e-02]\n",
      " [9.37225640e-01]\n",
      " [8.72535445e-03]\n",
      " [8.46245408e-01]\n",
      " [3.21686774e-01]\n",
      " [9.60187197e-01]\n",
      " [8.83504033e-01]\n",
      " [9.60187197e-01]\n",
      " [9.87173021e-01]\n",
      " [6.26947135e-02]\n",
      " [8.74917805e-01]\n",
      " [9.72376227e-01]\n",
      " [8.23355377e-01]\n",
      " [9.11111534e-01]\n",
      " [9.11805511e-01]\n",
      " [8.79659131e-03]\n",
      " [8.66754949e-01]\n",
      " [8.15203667e-01]\n",
      " [3.25836637e-03]\n",
      " [1.53328016e-01]\n",
      " [7.56525174e-02]\n",
      " [1.66143989e-03]\n",
      " [9.10533309e-01]\n",
      " [8.26882720e-01]\n",
      " [7.37314284e-01]\n",
      " [9.32409704e-01]\n",
      " [4.83330846e-01]\n",
      " [1.89594436e-03]\n",
      " [9.87598956e-01]\n",
      " [9.99643385e-01]\n",
      " [1.47550283e-02]\n",
      " [9.99998510e-01]\n",
      " [4.06506620e-02]\n",
      " [8.15203667e-01]\n",
      " [9.99998510e-01]\n",
      " [8.23355377e-01]\n",
      " [8.42779279e-01]\n",
      " [9.34265554e-01]\n",
      " [9.60965872e-01]\n",
      " [5.69982603e-02]\n",
      " [7.20581055e-01]\n",
      " [9.54829037e-01]\n",
      " [4.68164057e-01]\n",
      " [9.48171616e-01]\n",
      " [7.72616208e-01]\n",
      " [2.27527618e-02]\n",
      " [7.63071299e-01]\n",
      " [2.42856331e-03]\n",
      " [8.84897411e-01]\n",
      " [8.42779279e-01]\n",
      " [2.20973283e-01]\n",
      " [7.32229128e-02]\n",
      " [9.01691496e-01]\n",
      " [9.32409704e-01]\n",
      " [1.65531501e-01]\n",
      " [4.64496054e-02]\n",
      " [7.63499439e-01]\n",
      " [9.70039189e-01]\n",
      " [6.44660741e-02]\n",
      " [6.44660741e-02]\n",
      " [1.75515309e-01]\n",
      " [9.36758220e-02]\n",
      " [1.50893986e-01]\n",
      " [1.76446307e-02]\n",
      " [1.37071490e-01]\n",
      " [9.48171616e-01]\n",
      " [4.43657190e-01]\n",
      " [7.45504260e-01]\n",
      " [9.82822955e-01]\n",
      " [4.28214145e-04]\n",
      " [9.24709857e-01]\n",
      " [9.77125168e-01]\n",
      " [9.99998450e-01]\n",
      " [4.94013773e-04]\n",
      " [8.41440022e-01]\n",
      " [9.64838564e-01]\n",
      " [9.81867969e-01]\n",
      " [3.47466907e-03]\n",
      " [8.94888997e-01]\n",
      " [8.56257260e-01]\n",
      " [7.62297392e-01]\n",
      " [9.11805511e-01]\n",
      " [9.25968230e-01]\n",
      " [8.83504033e-01]\n",
      " [8.39750469e-01]\n",
      " [9.64826286e-01]\n",
      " [9.78561759e-01]\n",
      " [6.72405064e-01]\n",
      " [8.37775886e-01]\n",
      " [8.56257260e-01]\n",
      " [8.72535445e-03]\n",
      " [1.65224910e-01]\n",
      " [9.33192015e-01]\n",
      " [4.66525787e-03]\n",
      " [9.70149159e-01]\n",
      " [9.76825893e-01]\n",
      " [6.19533181e-01]\n",
      " [8.53155553e-01]\n",
      " [9.76825893e-01]\n",
      " [3.99570353e-02]\n",
      " [5.27521431e-01]\n",
      " [1.41827255e-01]\n",
      " [5.71294606e-01]\n",
      " [9.77672756e-01]\n",
      " [7.92751610e-01]\n",
      " [8.15203667e-01]\n",
      " [8.53155553e-01]\n",
      " [1.25779822e-01]\n",
      " [9.99993384e-01]\n",
      " [7.87728131e-01]\n",
      " [7.32229128e-02]\n",
      " [1.49417490e-01]\n",
      " [6.65043056e-01]\n",
      " [1.50893986e-01]\n",
      " [7.45317101e-01]\n",
      " [1.47550283e-02]\n",
      " [7.59826899e-01]\n",
      " [1.04593104e-02]\n",
      " [4.73629273e-02]\n",
      " [9.75466013e-01]\n",
      " [9.31388080e-01]\n",
      " [8.79091918e-01]\n",
      " [9.11111534e-01]\n",
      " [7.70615160e-01]\n",
      " [2.64749466e-03]\n",
      " [8.66754949e-01]\n",
      " [8.37775886e-01]\n",
      " [5.77975869e-01]\n",
      " [8.18869650e-01]\n",
      " [9.01691496e-01]\n",
      " [2.27527618e-02]\n",
      " [2.10106522e-02]\n",
      " [3.80132139e-01]\n",
      " [1.29281551e-01]\n",
      " [9.63392675e-01]\n",
      " [4.39423561e-01]\n",
      " [5.56040943e-01]\n",
      " [4.51478720e-01]\n",
      " [9.99985158e-01]\n",
      " [1.50259718e-01]\n",
      " [8.51552095e-03]\n",
      " [8.46245408e-01]\n",
      " [4.03828435e-02]\n",
      " [9.99643385e-01]\n",
      " [8.90814126e-01]\n",
      " [1.09136485e-01]\n",
      " [9.52764273e-01]\n",
      " [1.02495402e-02]\n",
      " [4.92842108e-01]\n",
      " [4.94013773e-04]\n",
      " [1.53328016e-01]\n",
      " [9.80989933e-01]\n",
      " [2.63531227e-02]]\n"
     ]
    }
   ],
   "source": [
    "model.compile(optimizer='adam', \n",
    "              loss='binary_crossentropy', \n",
    "              metrics=['accuracy'])\n",
    "model.fit(x_train,y_train, epochs=100)\n",
    "print(model.predict(x_test))"
   ]
  },
  {
   "cell_type": "code",
   "execution_count": 31,
   "metadata": {},
   "outputs": [
    {
     "name": "stdout",
     "output_type": "stream",
     "text": [
      "9/9 [==============================] - 0s 602us/step - loss: 0.4153 - accuracy: 0.8093\n",
      "Loss : 41.53%\n",
      "Accuracy : 80.93%\n"
     ]
    }
   ],
   "source": [
    "loss, accuracy = model.evaluate(x_test, y_test)\n",
    "print(f\"Loss : {loss * 100:.2f}%\")\n",
    "print(f\"Accuracy : {accuracy * 100:.2f}%\")"
   ]
  }
 ],
 "metadata": {
  "kernelspec": {
   "display_name": "base",
   "language": "python",
   "name": "python3"
  },
  "language_info": {
   "codemirror_mode": {
    "name": "ipython",
    "version": 3
   },
   "file_extension": ".py",
   "mimetype": "text/x-python",
   "name": "python",
   "nbconvert_exporter": "python",
   "pygments_lexer": "ipython3",
   "version": "3.10.9"
  },
  "orig_nbformat": 4
 },
 "nbformat": 4,
 "nbformat_minor": 2
}
